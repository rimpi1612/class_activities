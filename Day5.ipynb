{
 "cells": [
  {
   "cell_type": "code",
   "execution_count": 7,
   "id": "1dc0fa8a",
   "metadata": {},
   "outputs": [],
   "source": [
    "a=6.9"
   ]
  },
  {
   "cell_type": "code",
   "execution_count": 8,
   "id": "74affa71",
   "metadata": {},
   "outputs": [
    {
     "data": {
      "text/plain": [
       "float"
      ]
     },
     "execution_count": 8,
     "metadata": {},
     "output_type": "execute_result"
    }
   ],
   "source": [
    "type(a)"
   ]
  },
  {
   "cell_type": "code",
   "execution_count": 9,
   "id": "06e0a733",
   "metadata": {},
   "outputs": [
    {
     "data": {
      "text/plain": [
       "6"
      ]
     },
     "execution_count": 9,
     "metadata": {},
     "output_type": "execute_result"
    }
   ],
   "source": [
    "int(a)"
   ]
  },
  {
   "cell_type": "code",
   "execution_count": 14,
   "id": "431cd0a5",
   "metadata": {},
   "outputs": [],
   "source": [
    "my_tuple=(1,2,3,4,\"a\",\"b\",\"c\")"
   ]
  },
  {
   "cell_type": "code",
   "execution_count": 12,
   "id": "5ac08b51",
   "metadata": {},
   "outputs": [
    {
     "data": {
      "text/plain": [
       "tuple"
      ]
     },
     "execution_count": 12,
     "metadata": {},
     "output_type": "execute_result"
    }
   ],
   "source": [
    "type(my_tuple)"
   ]
  },
  {
   "cell_type": "code",
   "execution_count": 15,
   "id": "5dfb7720",
   "metadata": {},
   "outputs": [
    {
     "data": {
      "text/plain": [
       "4"
      ]
     },
     "execution_count": 15,
     "metadata": {},
     "output_type": "execute_result"
    }
   ],
   "source": [
    "my_tuple.index(\"a\")"
   ]
  },
  {
   "cell_type": "code",
   "execution_count": 17,
   "id": "4cb5d199",
   "metadata": {},
   "outputs": [],
   "source": [
    "my_tuple2 = my_tuple + (\"z\",7)"
   ]
  },
  {
   "cell_type": "code",
   "execution_count": 18,
   "id": "3c1889ec",
   "metadata": {},
   "outputs": [
    {
     "data": {
      "text/plain": [
       "(1, 2, 3, 4, 'a', 'b', 'c', 'z', 7)"
      ]
     },
     "execution_count": 18,
     "metadata": {},
     "output_type": "execute_result"
    }
   ],
   "source": [
    "my_tuple2"
   ]
  },
  {
   "cell_type": "code",
   "execution_count": 19,
   "id": "16857b8c",
   "metadata": {},
   "outputs": [],
   "source": [
    "my_set = {1,2,3,4,\"a\",\"b\",\"c\",\"a\",1} "
   ]
  },
  {
   "cell_type": "code",
   "execution_count": 20,
   "id": "09db2ec5",
   "metadata": {},
   "outputs": [
    {
     "data": {
      "text/plain": [
       "set"
      ]
     },
     "execution_count": 20,
     "metadata": {},
     "output_type": "execute_result"
    }
   ],
   "source": [
    "type(my_set)"
   ]
  },
  {
   "cell_type": "code",
   "execution_count": 21,
   "id": "b61d2503",
   "metadata": {},
   "outputs": [
    {
     "data": {
      "text/plain": [
       "{1, 2, 3, 4, 'a', 'b', 'c'}"
      ]
     },
     "execution_count": 21,
     "metadata": {},
     "output_type": "execute_result"
    }
   ],
   "source": [
    "my_set"
   ]
  },
  {
   "cell_type": "code",
   "execution_count": 22,
   "id": "695d6c37",
   "metadata": {},
   "outputs": [],
   "source": [
    "my_set.add(\"t\")"
   ]
  },
  {
   "cell_type": "code",
   "execution_count": 23,
   "id": "a2f93b25",
   "metadata": {},
   "outputs": [
    {
     "data": {
      "text/plain": [
       "{1, 2, 3, 4, 'a', 'b', 'c', 't'}"
      ]
     },
     "execution_count": 23,
     "metadata": {},
     "output_type": "execute_result"
    }
   ],
   "source": [
    "my_set"
   ]
  },
  {
   "cell_type": "code",
   "execution_count": null,
   "id": "46e7cf91",
   "metadata": {},
   "outputs": [],
   "source": []
  },
  {
   "cell_type": "code",
   "execution_count": 13,
   "id": "6720a86d",
   "metadata": {},
   "outputs": [],
   "source": [
    "my_list = [1,2,3,4,\"a\",\"b\",\"c\"]"
   ]
  },
  {
   "cell_type": "code",
   "execution_count": 16,
   "id": "670972b4",
   "metadata": {},
   "outputs": [
    {
     "data": {
      "text/plain": [
       "1"
      ]
     },
     "execution_count": 16,
     "metadata": {},
     "output_type": "execute_result"
    }
   ],
   "source": [
    "my_list.count(\"a\")"
   ]
  },
  {
   "cell_type": "code",
   "execution_count": null,
   "id": "07de65de",
   "metadata": {},
   "outputs": [],
   "source": []
  },
  {
   "cell_type": "code",
   "execution_count": 26,
   "id": "083152ec",
   "metadata": {},
   "outputs": [
    {
     "data": {
      "text/plain": [
       "str"
      ]
     },
     "execution_count": 26,
     "metadata": {},
     "output_type": "execute_result"
    }
   ],
   "source": [
    "type(str(45.5))"
   ]
  },
  {
   "cell_type": "code",
   "execution_count": 27,
   "id": "9a972613",
   "metadata": {},
   "outputs": [
    {
     "data": {
      "text/plain": [
       "4.5"
      ]
     },
     "execution_count": 27,
     "metadata": {},
     "output_type": "execute_result"
    }
   ],
   "source": [
    "float(str(4.5))"
   ]
  },
  {
   "cell_type": "code",
   "execution_count": 28,
   "id": "0e40b84c",
   "metadata": {},
   "outputs": [
    {
     "data": {
      "text/plain": [
       "'name'"
      ]
     },
     "execution_count": 28,
     "metadata": {},
     "output_type": "execute_result"
    }
   ],
   "source": [
    "str(\"name\")"
   ]
  },
  {
   "cell_type": "code",
   "execution_count": 53,
   "id": "1a1c0849",
   "metadata": {},
   "outputs": [],
   "source": [
    "s = \"      python IS nice: i Like it    \""
   ]
  },
  {
   "cell_type": "code",
   "execution_count": 31,
   "id": "162f51a6",
   "metadata": {},
   "outputs": [
    {
     "data": {
      "text/plain": [
       "'     python IS nice: i Like it    '"
      ]
     },
     "execution_count": 31,
     "metadata": {},
     "output_type": "execute_result"
    }
   ],
   "source": [
    "s"
   ]
  },
  {
   "cell_type": "code",
   "execution_count": 36,
   "id": "e9f41112",
   "metadata": {},
   "outputs": [
    {
     "data": {
      "text/plain": [
       "'    python is nice: i like it    '"
      ]
     },
     "execution_count": 36,
     "metadata": {},
     "output_type": "execute_result"
    }
   ],
   "source": [
    "s.capitalize()"
   ]
  },
  {
   "cell_type": "code",
   "execution_count": 37,
   "id": "bc57a020",
   "metadata": {},
   "outputs": [
    {
     "data": {
      "text/plain": [
       "'    python IS nick: i Likk it    '"
      ]
     },
     "execution_count": 37,
     "metadata": {},
     "output_type": "execute_result"
    }
   ],
   "source": [
    "s.replace(\"e\",\"k\")"
   ]
  },
  {
   "cell_type": "code",
   "execution_count": 38,
   "id": "1b92cf65",
   "metadata": {},
   "outputs": [
    {
     "data": {
      "text/plain": [
       "'pythonISnice:iLikeit'"
      ]
     },
     "execution_count": 38,
     "metadata": {},
     "output_type": "execute_result"
    }
   ],
   "source": [
    "s.replace(\" \",\"\")"
   ]
  },
  {
   "cell_type": "code",
   "execution_count": 39,
   "id": "c7bc34a5",
   "metadata": {},
   "outputs": [
    {
     "data": {
      "text/plain": [
       "'    PYTHON IS NICE: I LIKE IT    '"
      ]
     },
     "execution_count": 39,
     "metadata": {},
     "output_type": "execute_result"
    }
   ],
   "source": [
    "s.upper()"
   ]
  },
  {
   "cell_type": "code",
   "execution_count": 40,
   "id": "98a259f4",
   "metadata": {},
   "outputs": [
    {
     "data": {
      "text/plain": [
       "'python IS nice: i Like it    '"
      ]
     },
     "execution_count": 40,
     "metadata": {},
     "output_type": "execute_result"
    }
   ],
   "source": [
    "s.lstrip()"
   ]
  },
  {
   "cell_type": "code",
   "execution_count": 43,
   "id": "9264c118",
   "metadata": {},
   "outputs": [
    {
     "data": {
      "text/plain": [
       "['python', 'IS', 'nice:', 'i', 'Like', 'it']"
      ]
     },
     "execution_count": 43,
     "metadata": {},
     "output_type": "execute_result"
    }
   ],
   "source": [
    "s.split()"
   ]
  },
  {
   "cell_type": "code",
   "execution_count": 44,
   "id": "b9562035",
   "metadata": {},
   "outputs": [
    {
     "data": {
      "text/plain": [
       "'nice:'"
      ]
     },
     "execution_count": 44,
     "metadata": {},
     "output_type": "execute_result"
    }
   ],
   "source": [
    "s.split()[2]"
   ]
  },
  {
   "cell_type": "code",
   "execution_count": 49,
   "id": "8a0237ee",
   "metadata": {},
   "outputs": [],
   "source": [
    "s2 = s.split(\":\")"
   ]
  },
  {
   "cell_type": "code",
   "execution_count": 51,
   "id": "3572ffdc",
   "metadata": {},
   "outputs": [
    {
     "data": {
      "text/plain": [
       "['    python IS nice', ' i Like it    ']"
      ]
     },
     "execution_count": 51,
     "metadata": {},
     "output_type": "execute_result"
    }
   ],
   "source": [
    "s2"
   ]
  },
  {
   "cell_type": "code",
   "execution_count": 54,
   "id": "233358fe",
   "metadata": {},
   "outputs": [
    {
     "data": {
      "text/plain": [
       "6"
      ]
     },
     "execution_count": 54,
     "metadata": {},
     "output_type": "execute_result"
    }
   ],
   "source": [
    "s.find(\"p\")"
   ]
  },
  {
   "cell_type": "code",
   "execution_count": 55,
   "id": "bfce5e0e",
   "metadata": {},
   "outputs": [
    {
     "data": {
      "text/plain": [
       "False"
      ]
     },
     "execution_count": 55,
     "metadata": {},
     "output_type": "execute_result"
    }
   ],
   "source": [
    "s.isspace()"
   ]
  },
  {
   "cell_type": "code",
   "execution_count": 56,
   "id": "026f5799",
   "metadata": {},
   "outputs": [
    {
     "data": {
      "text/plain": [
       "'python IS nice: i Like it'"
      ]
     },
     "execution_count": 56,
     "metadata": {},
     "output_type": "execute_result"
    }
   ],
   "source": [
    "s.strip()"
   ]
  },
  {
   "cell_type": "code",
   "execution_count": 57,
   "id": "819c7725",
   "metadata": {},
   "outputs": [
    {
     "data": {
      "text/plain": [
       "'      PYTHON is NICE: I lIKE IT    '"
      ]
     },
     "execution_count": 57,
     "metadata": {},
     "output_type": "execute_result"
    }
   ],
   "source": [
    "s.swapcase()"
   ]
  },
  {
   "cell_type": "code",
   "execution_count": 58,
   "id": "16cf8335",
   "metadata": {},
   "outputs": [
    {
     "data": {
      "text/plain": [
       "'      Python Is Nice: I Like It    '"
      ]
     },
     "execution_count": 58,
     "metadata": {},
     "output_type": "execute_result"
    }
   ],
   "source": [
    "s.title()"
   ]
  },
  {
   "cell_type": "code",
   "execution_count": null,
   "id": "7f2eb9d5",
   "metadata": {},
   "outputs": [],
   "source": [
    "###### List"
   ]
  },
  {
   "cell_type": "code",
   "execution_count": 65,
   "id": "177413a9",
   "metadata": {},
   "outputs": [],
   "source": [
    "my_fav_list = [\"chocolate\",[\"beach_front\", \"moutains\"], \"breakfast_tacos\",9, 4.59]"
   ]
  },
  {
   "cell_type": "code",
   "execution_count": 66,
   "id": "2db004d4",
   "metadata": {},
   "outputs": [
    {
     "data": {
      "text/plain": [
       "['chocolate', ['beach_front', 'moutains'], 'breakfast_tacos', 9, 4.59]"
      ]
     },
     "execution_count": 66,
     "metadata": {},
     "output_type": "execute_result"
    }
   ],
   "source": [
    "my_fav_list"
   ]
  },
  {
   "cell_type": "code",
   "execution_count": 67,
   "id": "bf993853",
   "metadata": {},
   "outputs": [
    {
     "data": {
      "text/plain": [
       "[(0, 'chocolate'),\n",
       " (1, ['beach_front', 'moutains']),\n",
       " (2, 'breakfast_tacos'),\n",
       " (3, 9),\n",
       " (4, 4.59)]"
      ]
     },
     "execution_count": 67,
     "metadata": {},
     "output_type": "execute_result"
    }
   ],
   "source": [
    "list(enumerate(my_fav_list))"
   ]
  },
  {
   "cell_type": "code",
   "execution_count": 69,
   "id": "ac1a5628",
   "metadata": {},
   "outputs": [
    {
     "data": {
      "text/plain": [
       "'beach_front'"
      ]
     },
     "execution_count": 69,
     "metadata": {},
     "output_type": "execute_result"
    }
   ],
   "source": [
    "my_fav_list[1][0]"
   ]
  },
  {
   "cell_type": "code",
   "execution_count": 70,
   "id": "55d14bf2",
   "metadata": {},
   "outputs": [
    {
     "data": {
      "text/plain": [
       "'moutains'"
      ]
     },
     "execution_count": 70,
     "metadata": {},
     "output_type": "execute_result"
    }
   ],
   "source": [
    "my_fav_list[1][1]"
   ]
  },
  {
   "cell_type": "code",
   "execution_count": null,
   "id": "d3258549",
   "metadata": {},
   "outputs": [],
   "source": []
  },
  {
   "cell_type": "code",
   "execution_count": 72,
   "id": "704d08db",
   "metadata": {},
   "outputs": [],
   "source": [
    "pokemon = [\"pikachu\", \"charizard\", \"bulbasaur\", \"gyarados\", \"dragonite\", \"onyx\"]"
   ]
  },
  {
   "cell_type": "code",
   "execution_count": 73,
   "id": "6af88a4c",
   "metadata": {},
   "outputs": [
    {
     "data": {
      "text/plain": [
       "['pikachu', 'charizard', 'bulbasaur', 'gyarados', 'dragonite', 'onyx']"
      ]
     },
     "execution_count": 73,
     "metadata": {},
     "output_type": "execute_result"
    }
   ],
   "source": [
    "pokemon"
   ]
  },
  {
   "cell_type": "code",
   "execution_count": 74,
   "id": "78708f4d",
   "metadata": {},
   "outputs": [
    {
     "data": {
      "text/plain": [
       "[(0, 'pikachu'),\n",
       " (1, 'charizard'),\n",
       " (2, 'bulbasaur'),\n",
       " (3, 'gyarados'),\n",
       " (4, 'dragonite'),\n",
       " (5, 'onyx')]"
      ]
     },
     "execution_count": 74,
     "metadata": {},
     "output_type": "execute_result"
    }
   ],
   "source": [
    "list(enumerate(pokemon))"
   ]
  },
  {
   "cell_type": "code",
   "execution_count": 75,
   "id": "5243a9b9",
   "metadata": {},
   "outputs": [
    {
     "data": {
      "text/plain": [
       "'pikachu'"
      ]
     },
     "execution_count": 75,
     "metadata": {},
     "output_type": "execute_result"
    }
   ],
   "source": [
    "pokemon[0]"
   ]
  },
  {
   "cell_type": "code",
   "execution_count": 76,
   "id": "528dc3d1",
   "metadata": {},
   "outputs": [
    {
     "data": {
      "text/plain": [
       "['bulbasaur', 'gyarados', 'dragonite']"
      ]
     },
     "execution_count": 76,
     "metadata": {},
     "output_type": "execute_result"
    }
   ],
   "source": [
    "pokemon[2:5]"
   ]
  },
  {
   "cell_type": "code",
   "execution_count": 77,
   "id": "c7e38a64",
   "metadata": {},
   "outputs": [
    {
     "data": {
      "text/plain": [
       "['gyarados', 'dragonite', 'onyx']"
      ]
     },
     "execution_count": 77,
     "metadata": {},
     "output_type": "execute_result"
    }
   ],
   "source": [
    "pokemon[3:]"
   ]
  },
  {
   "cell_type": "code",
   "execution_count": 86,
   "id": "f020b5d3",
   "metadata": {},
   "outputs": [
    {
     "data": {
      "text/plain": [
       "['gyarados', 'dragonite', 'onyx']"
      ]
     },
     "execution_count": 86,
     "metadata": {},
     "output_type": "execute_result"
    }
   ],
   "source": [
    "pokemon[3::]"
   ]
  },
  {
   "cell_type": "code",
   "execution_count": 88,
   "id": "35c86ff0",
   "metadata": {},
   "outputs": [
    {
     "data": {
      "text/plain": [
       "'onyx'"
      ]
     },
     "execution_count": 88,
     "metadata": {},
     "output_type": "execute_result"
    }
   ],
   "source": [
    "pokemon[-1]"
   ]
  },
  {
   "cell_type": "code",
   "execution_count": 89,
   "id": "c5676d4d",
   "metadata": {},
   "outputs": [
    {
     "data": {
      "text/plain": [
       "2"
      ]
     },
     "execution_count": 89,
     "metadata": {},
     "output_type": "execute_result"
    }
   ],
   "source": [
    "pokemon.index(\"bulbasaur\")"
   ]
  },
  {
   "cell_type": "code",
   "execution_count": 93,
   "id": "d18d8b2b",
   "metadata": {},
   "outputs": [],
   "source": [
    "pokemon.append(\"magikarp\")"
   ]
  },
  {
   "cell_type": "code",
   "execution_count": 94,
   "id": "ec66a4d1",
   "metadata": {},
   "outputs": [
    {
     "data": {
      "text/plain": [
       "['pikachu',\n",
       " 'charizard',\n",
       " 'bulbasaur',\n",
       " 'gyarados',\n",
       " 'dragonite',\n",
       " 'onyx',\n",
       " 'new',\n",
       " 'new',\n",
       " 'new pokemon',\n",
       " 'magikarp']"
      ]
     },
     "execution_count": 94,
     "metadata": {},
     "output_type": "execute_result"
    }
   ],
   "source": [
    "pokemon"
   ]
  },
  {
   "cell_type": "code",
   "execution_count": 110,
   "id": "4836e630",
   "metadata": {},
   "outputs": [],
   "source": [
    "pokemon.extend([\"a\",\"b\",\"c\",\"d\"])"
   ]
  },
  {
   "cell_type": "code",
   "execution_count": 98,
   "id": "97c25d8d",
   "metadata": {},
   "outputs": [
    {
     "data": {
      "text/plain": [
       "['pikachu',\n",
       " 'charizard',\n",
       " 'bulbasaur',\n",
       " 'gyarados',\n",
       " 'dragonite',\n",
       " 'onyx',\n",
       " 'new',\n",
       " 'new',\n",
       " 'new pokemon',\n",
       " 'magikarp',\n",
       " 'a',\n",
       " 'b',\n",
       " 'a',\n",
       " 'b',\n",
       " 'c',\n",
       " 'd']"
      ]
     },
     "execution_count": 98,
     "metadata": {},
     "output_type": "execute_result"
    }
   ],
   "source": [
    "pokemon"
   ]
  },
  {
   "cell_type": "code",
   "execution_count": 102,
   "id": "67fe70a6",
   "metadata": {},
   "outputs": [],
   "source": [
    "pokemon.remove(\"a\")"
   ]
  },
  {
   "cell_type": "code",
   "execution_count": 103,
   "id": "23108d49",
   "metadata": {},
   "outputs": [
    {
     "data": {
      "text/plain": [
       "['pikachu',\n",
       " 'charizard',\n",
       " 'bulbasaur',\n",
       " 'gyarados',\n",
       " 'dragonite',\n",
       " 'onyx',\n",
       " 'new',\n",
       " 'new',\n",
       " 'new pokemon',\n",
       " 'magikarp',\n",
       " 'b',\n",
       " 'b',\n",
       " 'c',\n",
       " 'd']"
      ]
     },
     "execution_count": 103,
     "metadata": {},
     "output_type": "execute_result"
    }
   ],
   "source": [
    "pokemon"
   ]
  },
  {
   "cell_type": "code",
   "execution_count": 104,
   "id": "1371aab6",
   "metadata": {},
   "outputs": [
    {
     "data": {
      "text/plain": [
       "'d'"
      ]
     },
     "execution_count": 104,
     "metadata": {},
     "output_type": "execute_result"
    }
   ],
   "source": [
    "pokemon.pop()"
   ]
  },
  {
   "cell_type": "code",
   "execution_count": 105,
   "id": "d871197c",
   "metadata": {},
   "outputs": [
    {
     "data": {
      "text/plain": [
       "['pikachu',\n",
       " 'charizard',\n",
       " 'bulbasaur',\n",
       " 'gyarados',\n",
       " 'dragonite',\n",
       " 'onyx',\n",
       " 'new',\n",
       " 'new',\n",
       " 'new pokemon',\n",
       " 'magikarp',\n",
       " 'b',\n",
       " 'b',\n",
       " 'c']"
      ]
     },
     "execution_count": 105,
     "metadata": {},
     "output_type": "execute_result"
    }
   ],
   "source": [
    "pokemon"
   ]
  },
  {
   "cell_type": "code",
   "execution_count": 106,
   "id": "e6a539ad",
   "metadata": {},
   "outputs": [],
   "source": [
    "pokemon.reverse()"
   ]
  },
  {
   "cell_type": "code",
   "execution_count": 107,
   "id": "4917b70a",
   "metadata": {},
   "outputs": [],
   "source": [
    "pokemon.sort()"
   ]
  },
  {
   "cell_type": "code",
   "execution_count": 108,
   "id": "c814a3db",
   "metadata": {},
   "outputs": [
    {
     "data": {
      "text/plain": [
       "['b',\n",
       " 'b',\n",
       " 'bulbasaur',\n",
       " 'c',\n",
       " 'charizard',\n",
       " 'dragonite',\n",
       " 'gyarados',\n",
       " 'magikarp',\n",
       " 'new',\n",
       " 'new',\n",
       " 'new pokemon',\n",
       " 'onyx',\n",
       " 'pikachu']"
      ]
     },
     "execution_count": 108,
     "metadata": {},
     "output_type": "execute_result"
    }
   ],
   "source": [
    "pokemon"
   ]
  },
  {
   "cell_type": "code",
   "execution_count": 111,
   "id": "c90240b9",
   "metadata": {},
   "outputs": [
    {
     "data": {
      "text/plain": [
       "1"
      ]
     },
     "execution_count": 111,
     "metadata": {},
     "output_type": "execute_result"
    }
   ],
   "source": [
    "pokemon.count(\"a\")"
   ]
  },
  {
   "cell_type": "code",
   "execution_count": 113,
   "id": "974eb899",
   "metadata": {},
   "outputs": [],
   "source": [
    "pokemon.insert(0,\"Ted\")"
   ]
  },
  {
   "cell_type": "code",
   "execution_count": 114,
   "id": "36068c63",
   "metadata": {},
   "outputs": [
    {
     "data": {
      "text/plain": [
       "['Ted',\n",
       " 'b',\n",
       " 'b',\n",
       " 'bulbasaur',\n",
       " 'c',\n",
       " 'charizard',\n",
       " 'dragonite',\n",
       " 'gyarados',\n",
       " 'magikarp',\n",
       " 'new',\n",
       " 'new',\n",
       " 'new pokemon',\n",
       " 'onyx',\n",
       " 'pikachu',\n",
       " 'a',\n",
       " 'b',\n",
       " 'c',\n",
       " 'd']"
      ]
     },
     "execution_count": 114,
     "metadata": {},
     "output_type": "execute_result"
    }
   ],
   "source": [
    "pokemon"
   ]
  },
  {
   "cell_type": "code",
   "execution_count": 115,
   "id": "f7ae266f",
   "metadata": {},
   "outputs": [],
   "source": [
    "grocer_list = [\"Water\", \"Butter\", \"Eggs\", \"Apples\", \"Cinnamon\", \"Sugar\", \"Milk\"]"
   ]
  },
  {
   "cell_type": "code",
   "execution_count": 116,
   "id": "39b618cc",
   "metadata": {},
   "outputs": [
    {
     "data": {
      "text/plain": [
       "['Water', 'Butter', 'Eggs', 'Apples', 'Cinnamon', 'Sugar', 'Milk']"
      ]
     },
     "execution_count": 116,
     "metadata": {},
     "output_type": "execute_result"
    }
   ],
   "source": [
    "grocer_list"
   ]
  },
  {
   "cell_type": "code",
   "execution_count": 117,
   "id": "dc56b26b",
   "metadata": {},
   "outputs": [
    {
     "data": {
      "text/plain": [
       "['Water', 'Butter']"
      ]
     },
     "execution_count": 117,
     "metadata": {},
     "output_type": "execute_result"
    }
   ],
   "source": [
    "grocer_list[:2]"
   ]
  },
  {
   "cell_type": "code",
   "execution_count": 119,
   "id": "ce4dbd40",
   "metadata": {},
   "outputs": [
    {
     "data": {
      "text/plain": [
       "['Eggs', 'Apples', 'Cinnamon', 'Sugar', 'Milk']"
      ]
     },
     "execution_count": 119,
     "metadata": {},
     "output_type": "execute_result"
    }
   ],
   "source": [
    "grocer_list[2:]"
   ]
  },
  {
   "cell_type": "code",
   "execution_count": 133,
   "id": "8d6a03e5",
   "metadata": {},
   "outputs": [
    {
     "data": {
      "text/plain": [
       "['Butter', 'Gala Apples', 'Sugar', 'four']"
      ]
     },
     "execution_count": 133,
     "metadata": {},
     "output_type": "execute_result"
    }
   ],
   "source": [
    "grocer_list[1::2]"
   ]
  },
  {
   "cell_type": "code",
   "execution_count": 122,
   "id": "552cae1c",
   "metadata": {},
   "outputs": [],
   "source": [
    "grocer_list.append(\"Flour\")"
   ]
  },
  {
   "cell_type": "code",
   "execution_count": 123,
   "id": "a0c3aa97",
   "metadata": {},
   "outputs": [
    {
     "data": {
      "text/plain": [
       "['Water',\n",
       " 'Butter',\n",
       " 'Eggs',\n",
       " 'Apples',\n",
       " 'Cinnamon',\n",
       " 'Sugar',\n",
       " 'Milk',\n",
       " 'four',\n",
       " 'Flour']"
      ]
     },
     "execution_count": 123,
     "metadata": {},
     "output_type": "execute_result"
    }
   ],
   "source": [
    "grocer_list"
   ]
  },
  {
   "cell_type": "code",
   "execution_count": 127,
   "id": "86667c83",
   "metadata": {},
   "outputs": [
    {
     "data": {
      "text/plain": [
       "3"
      ]
     },
     "execution_count": 127,
     "metadata": {},
     "output_type": "execute_result"
    }
   ],
   "source": [
    "grocer_list.index(\"Apples\")"
   ]
  },
  {
   "cell_type": "code",
   "execution_count": 128,
   "id": "703f6259",
   "metadata": {},
   "outputs": [],
   "source": [
    "grocer_list[3] = \"Gala Apples\""
   ]
  },
  {
   "cell_type": "code",
   "execution_count": 129,
   "id": "b2979c6f",
   "metadata": {},
   "outputs": [
    {
     "data": {
      "text/plain": [
       "['Water',\n",
       " 'Butter',\n",
       " 'Eggs',\n",
       " 'Gala Apples',\n",
       " 'Cinnamon',\n",
       " 'Sugar',\n",
       " 'Milk',\n",
       " 'four',\n",
       " 'Flour']"
      ]
     },
     "execution_count": 129,
     "metadata": {},
     "output_type": "execute_result"
    }
   ],
   "source": [
    "grocer_list"
   ]
  },
  {
   "cell_type": "code",
   "execution_count": 130,
   "id": "3c10a5f7",
   "metadata": {},
   "outputs": [
    {
     "data": {
      "text/plain": [
       "9"
      ]
     },
     "execution_count": 130,
     "metadata": {},
     "output_type": "execute_result"
    }
   ],
   "source": [
    "len(grocer_list)"
   ]
  },
  {
   "cell_type": "code",
   "execution_count": 132,
   "id": "29df88e2",
   "metadata": {},
   "outputs": [
    {
     "data": {
      "text/plain": [
       "['Cinnamon', 'Sugar', 'Milk', 'four', 'Flour']"
      ]
     },
     "execution_count": 132,
     "metadata": {},
     "output_type": "execute_result"
    }
   ],
   "source": [
    "grocer_list[2:7]\n",
    "grocer_list[-5:]"
   ]
  },
  {
   "cell_type": "code",
   "execution_count": 135,
   "id": "4ec985f3",
   "metadata": {},
   "outputs": [],
   "source": [
    "grocer_list.remove(\"four\")"
   ]
  },
  {
   "cell_type": "code",
   "execution_count": 136,
   "id": "827e9c95",
   "metadata": {},
   "outputs": [
    {
     "data": {
      "text/plain": [
       "['Ted',\n",
       " 'b',\n",
       " 'b',\n",
       " 'bulbasaur',\n",
       " 'c',\n",
       " 'charizard',\n",
       " 'dragonite',\n",
       " 'gyarados',\n",
       " 'magikarp',\n",
       " 'new',\n",
       " 'new',\n",
       " 'new pokemon',\n",
       " 'onyx',\n",
       " 'pikachu',\n",
       " 'a',\n",
       " 'b',\n",
       " 'c',\n",
       " 'd']"
      ]
     },
     "execution_count": 136,
     "metadata": {},
     "output_type": "execute_result"
    }
   ],
   "source": [
    "pokemon"
   ]
  },
  {
   "cell_type": "code",
   "execution_count": 138,
   "id": "b382acd7",
   "metadata": {},
   "outputs": [
    {
     "name": "stdout",
     "output_type": "stream",
     "text": [
      "Ted\n",
      "b\n",
      "b\n",
      "bulbasaur\n",
      "c\n",
      "charizard\n",
      "dragonite\n",
      "gyarados\n",
      "magikarp\n",
      "new\n",
      "new\n",
      "new pokemon\n",
      "onyx\n",
      "pikachu\n",
      "a\n",
      "b\n",
      "c\n",
      "d\n"
     ]
    }
   ],
   "source": [
    "for x in pokemon:\n",
    "    print(x)"
   ]
  },
  {
   "cell_type": "code",
   "execution_count": 139,
   "id": "f4633c5c",
   "metadata": {},
   "outputs": [],
   "source": [
    "cash_tips = [22,10,30,45,54,60,56]"
   ]
  },
  {
   "cell_type": "code",
   "execution_count": 140,
   "id": "24d9b8ea",
   "metadata": {},
   "outputs": [
    {
     "data": {
      "text/plain": [
       "list"
      ]
     },
     "execution_count": 140,
     "metadata": {},
     "output_type": "execute_result"
    }
   ],
   "source": [
    "type(cash_tips)"
   ]
  },
  {
   "cell_type": "code",
   "execution_count": 141,
   "id": "b51be9a6",
   "metadata": {},
   "outputs": [
    {
     "name": "stdout",
     "output_type": "stream",
     "text": [
      "22\n",
      "10\n",
      "30\n",
      "45\n",
      "54\n",
      "60\n",
      "56\n"
     ]
    }
   ],
   "source": [
    "for x in cash_tips:\n",
    "    print(x)"
   ]
  },
  {
   "cell_type": "code",
   "execution_count": 147,
   "id": "79714b8c",
   "metadata": {},
   "outputs": [
    {
     "name": "stdout",
     "output_type": "stream",
     "text": [
      "Days I worked is: 7\n",
      "39.57\n",
      "10\n",
      "60\n"
     ]
    }
   ],
   "source": [
    "cash_tips = [22,10,30,45,54,60,56]\n",
    "count = 0\n",
    "total = 0\n",
    "average = 0\n",
    "minimum = 0\n",
    "maximum = 0\n",
    "for tip in cash_tips:\n",
    "    total = total + tip\n",
    "    count = count + 1\n",
    "    \n",
    "    if minimum == 0:\n",
    "        minimum = tip\n",
    "    elif tip < minimum:\n",
    "        minimum = tip\n",
    "    \n",
    "    if tip > maximum:\n",
    "        maximum = tip\n",
    "    \n",
    "average = round(total / count, 2)\n",
    "\n",
    "print(f\"Days I worked is: {count}\")\n",
    "print(average)\n",
    "print(minimum)\n",
    "print(maximum)\n",
    "    "
   ]
  },
  {
   "cell_type": "code",
   "execution_count": null,
   "id": "820d7be9",
   "metadata": {},
   "outputs": [],
   "source": []
  },
  {
   "cell_type": "code",
   "execution_count": 150,
   "id": "c0701738",
   "metadata": {},
   "outputs": [
    {
     "name": "stdout",
     "output_type": "stream",
     "text": [
      "Days I worked is: 20\n",
      "56.95\n",
      "65.0\n",
      "35.0\n"
     ]
    }
   ],
   "source": [
    "count = 0\n",
    "total = 0\n",
    "daily_average = 0\n",
    "worst_lost = 0\n",
    "best_gain =0\n",
    "profitable_days = []\n",
    "unprofitable_days = []\n",
    "no_profitable_days = 0\n",
    "no_unprofitable_days = 0\n",
    "percent_profitable_days = 0\n",
    "percent_unprofitable_days = 0\n",
    "\n",
    "trading_pnl = [ -224,  352, 252, 354, -544,\n",
    "                -650,   56, 123, -43,  254,\n",
    "                 325, -123,  47, 321,  123,\n",
    "                 133, -151, 613, 232, -311 ]\n",
    "\n",
    "for trade in trading_pnl:\n",
    "    total = total + trade\n",
    "    count = count + 1\n",
    "    \n",
    "    if trade > 0:\n",
    "        profitable_days.append(trade)\n",
    "        \n",
    "    if trade <= 0:\n",
    "        unprofitable_days.append(trade)\n",
    "       \n",
    "    if worst_lost <= 0:\n",
    "        worst_lost = trade\n",
    "        \n",
    "    elif trade < worst_lost:\n",
    "        worst_lost = trade\n",
    "    \n",
    "    if trade > best_gain:\n",
    "        best_gain = trade\n",
    "    \n",
    "daily_average = round(total / count, 2)\n",
    "no_profitable_days = len(profitable_days)\n",
    "no_unprofitable_days = len(unprofitable_days)\n",
    "percent_profitable_days = no_profitable_days/count*100\n",
    "percent_unprofitable_days = no_unprofitable_days/count*100\n",
    "\n",
    "print(f\"Days I worked is: {count}\")\n",
    "print(daily_average)\n",
    "print(percent_profitable_days)\n",
    "print(percent_unprofitable_days)\n"
   ]
  },
  {
   "cell_type": "code",
   "execution_count": 151,
   "id": "0dfe4105",
   "metadata": {},
   "outputs": [],
   "source": [
    "top_traders_2009 = {\n",
    "    \"jan\" : \"karon\",\n",
    "    \"feb\" : \"harold\",\n",
    "    \"mar\" : \"sam\"\n",
    "}"
   ]
  },
  {
   "cell_type": "code",
   "execution_count": 152,
   "id": "f6b59bd2",
   "metadata": {},
   "outputs": [
    {
     "data": {
      "text/plain": [
       "{'jan': 'karon', 'feb': 'harold', 'mar': 'sam'}"
      ]
     },
     "execution_count": 152,
     "metadata": {},
     "output_type": "execute_result"
    }
   ],
   "source": [
    "top_traders_2009"
   ]
  },
  {
   "cell_type": "code",
   "execution_count": 158,
   "id": "68470184",
   "metadata": {},
   "outputs": [
    {
     "data": {
      "text/plain": [
       "dict_items([('jan', 'karon'), ('feb', 'harold'), ('mar', 'sam')])"
      ]
     },
     "execution_count": 158,
     "metadata": {},
     "output_type": "execute_result"
    }
   ],
   "source": [
    "top_traders_2009.items()"
   ]
  },
  {
   "cell_type": "code",
   "execution_count": 153,
   "id": "aa7eefd2",
   "metadata": {},
   "outputs": [
    {
     "data": {
      "text/plain": [
       "dict_keys(['jan', 'feb', 'mar'])"
      ]
     },
     "execution_count": 153,
     "metadata": {},
     "output_type": "execute_result"
    }
   ],
   "source": [
    "top_traders_2009.keys()"
   ]
  },
  {
   "cell_type": "code",
   "execution_count": 154,
   "id": "c45bc6de",
   "metadata": {},
   "outputs": [
    {
     "data": {
      "text/plain": [
       "dict_values(['karon', 'harold', 'sam'])"
      ]
     },
     "execution_count": 154,
     "metadata": {},
     "output_type": "execute_result"
    }
   ],
   "source": [
    "top_traders_2009.values()"
   ]
  },
  {
   "cell_type": "code",
   "execution_count": 155,
   "id": "e4679d9d",
   "metadata": {},
   "outputs": [
    {
     "data": {
      "text/plain": [
       "'karon'"
      ]
     },
     "execution_count": 155,
     "metadata": {},
     "output_type": "execute_result"
    }
   ],
   "source": [
    "top_traders_2009[\"jan\"]"
   ]
  },
  {
   "cell_type": "code",
   "execution_count": 157,
   "id": "ffdc8218",
   "metadata": {},
   "outputs": [
    {
     "name": "stdout",
     "output_type": "stream",
     "text": [
      "jan\n",
      "feb\n",
      "mar\n"
     ]
    }
   ],
   "source": [
    "for x in top_traders_2009:\n",
    "    print(x)"
   ]
  },
  {
   "cell_type": "code",
   "execution_count": 161,
   "id": "5965cff5",
   "metadata": {},
   "outputs": [
    {
     "name": "stdout",
     "output_type": "stream",
     "text": [
      "karon\n",
      "harold\n",
      "sam\n"
     ]
    }
   ],
   "source": [
    "for y in top_traders_2009.values():\n",
    "    print(y)"
   ]
  },
  {
   "cell_type": "code",
   "execution_count": 162,
   "id": "71f62561",
   "metadata": {},
   "outputs": [
    {
     "name": "stdout",
     "output_type": "stream",
     "text": [
      "jan karon\n",
      "feb harold\n",
      "mar sam\n"
     ]
    }
   ],
   "source": [
    "for x,y in top_traders_2009.items():\n",
    "    print(x,y)"
   ]
  },
  {
   "cell_type": "code",
   "execution_count": 163,
   "id": "4f1ddecc",
   "metadata": {},
   "outputs": [],
   "source": [
    "import pandas as pd"
   ]
  },
  {
   "cell_type": "code",
   "execution_count": 167,
   "id": "29d20a23",
   "metadata": {},
   "outputs": [],
   "source": [
    "top_traders_2009_df = pd.DataFrame(top_traders_2009.items(), columns = [\"month\", \"name\"])"
   ]
  },
  {
   "cell_type": "code",
   "execution_count": 168,
   "id": "e59eab9c",
   "metadata": {},
   "outputs": [
    {
     "data": {
      "text/html": [
       "<div>\n",
       "<style scoped>\n",
       "    .dataframe tbody tr th:only-of-type {\n",
       "        vertical-align: middle;\n",
       "    }\n",
       "\n",
       "    .dataframe tbody tr th {\n",
       "        vertical-align: top;\n",
       "    }\n",
       "\n",
       "    .dataframe thead th {\n",
       "        text-align: right;\n",
       "    }\n",
       "</style>\n",
       "<table border=\"1\" class=\"dataframe\">\n",
       "  <thead>\n",
       "    <tr style=\"text-align: right;\">\n",
       "      <th></th>\n",
       "      <th>month</th>\n",
       "      <th>name</th>\n",
       "    </tr>\n",
       "  </thead>\n",
       "  <tbody>\n",
       "    <tr>\n",
       "      <th>0</th>\n",
       "      <td>jan</td>\n",
       "      <td>karon</td>\n",
       "    </tr>\n",
       "    <tr>\n",
       "      <th>1</th>\n",
       "      <td>feb</td>\n",
       "      <td>harold</td>\n",
       "    </tr>\n",
       "    <tr>\n",
       "      <th>2</th>\n",
       "      <td>mar</td>\n",
       "      <td>sam</td>\n",
       "    </tr>\n",
       "  </tbody>\n",
       "</table>\n",
       "</div>"
      ],
      "text/plain": [
       "  month    name\n",
       "0   jan   karon\n",
       "1   feb  harold\n",
       "2   mar     sam"
      ]
     },
     "execution_count": 168,
     "metadata": {},
     "output_type": "execute_result"
    }
   ],
   "source": [
    "top_traders_2009_df"
   ]
  },
  {
   "cell_type": "code",
   "execution_count": 171,
   "id": "8ef644df",
   "metadata": {},
   "outputs": [
    {
     "data": {
      "text/plain": [
       "0     karon\n",
       "1    harold\n",
       "2       sam\n",
       "Name: name, dtype: object"
      ]
     },
     "execution_count": 171,
     "metadata": {},
     "output_type": "execute_result"
    }
   ],
   "source": [
    "top_traders_2009_df[\"name\"]"
   ]
  },
  {
   "cell_type": "code",
   "execution_count": 172,
   "id": "b9decaab",
   "metadata": {},
   "outputs": [
    {
     "data": {
      "text/plain": [
       "Index(['month', 'name'], dtype='object')"
      ]
     },
     "execution_count": 172,
     "metadata": {},
     "output_type": "execute_result"
    }
   ],
   "source": [
    "top_traders_2009_df.columns"
   ]
  },
  {
   "cell_type": "code",
   "execution_count": null,
   "id": "c8cf264a",
   "metadata": {},
   "outputs": [],
   "source": [
    "top_traders_2009_df."
   ]
  },
  {
   "cell_type": "code",
   "execution_count": null,
   "id": "f04f3974",
   "metadata": {},
   "outputs": [],
   "source": []
  },
  {
   "cell_type": "code",
   "execution_count": null,
   "id": "9f5f5590",
   "metadata": {},
   "outputs": [],
   "source": [
    "# list of lists [ [] ]"
   ]
  },
  {
   "cell_type": "code",
   "execution_count": 173,
   "id": "e6fac4db",
   "metadata": {},
   "outputs": [],
   "source": [
    "ceo_nested_list = [\n",
    "    [\"Warren Buffet\", 88, \"CEO of Berkshire Hathaway\"],\n",
    "    [\"Jeff Bezos\", 55, \"CEO of Amazon\"],\n",
    "    [\"Harry Markowitz\", 91, \"Professor of Finance\"]\n",
    "]"
   ]
  },
  {
   "cell_type": "code",
   "execution_count": 174,
   "id": "73596d91",
   "metadata": {},
   "outputs": [
    {
     "data": {
      "text/plain": [
       "[['Warren Buffet', 88, 'CEO of Berkshire Hathaway'],\n",
       " ['Jeff Bezos', 55, 'CEO of Amazon'],\n",
       " ['Harry Markowitz', 91, 'Professor of Finance']]"
      ]
     },
     "execution_count": 174,
     "metadata": {},
     "output_type": "execute_result"
    }
   ],
   "source": [
    "ceo_nested_list"
   ]
  },
  {
   "cell_type": "code",
   "execution_count": 176,
   "id": "1b03766c",
   "metadata": {},
   "outputs": [
    {
     "data": {
      "text/plain": [
       "'Warren Buffet'"
      ]
     },
     "execution_count": 176,
     "metadata": {},
     "output_type": "execute_result"
    }
   ],
   "source": [
    "ceo_nested_list[0][0]"
   ]
  },
  {
   "cell_type": "code",
   "execution_count": null,
   "id": "89543994",
   "metadata": {},
   "outputs": [],
   "source": [
    "# list of dicts [ {} ] "
   ]
  },
  {
   "cell_type": "code",
   "execution_count": 177,
   "id": "4c187469",
   "metadata": {},
   "outputs": [],
   "source": [
    "ceo_nested_dict = [\n",
    "    {\n",
    "        \"name\": \"Warren Buffet\",\n",
    "        \"age\": 88,\n",
    "        \"occupation\": \"CEO of Berkshire Hathaway\"\n",
    "    },\n",
    "    {\n",
    "        \"name\": \"Jeff Bezos\",\n",
    "        \"age\": 55,\n",
    "        \"occupation\": \"CEO of Amazon\"\n",
    "    },\n",
    "    {\n",
    "        \"name\": \"Harry Markowitz\",\n",
    "        \"age\": 91,\n",
    "        \"occupation\": \"Professor of Finance\"\n",
    "    }\n",
    "]"
   ]
  },
  {
   "cell_type": "code",
   "execution_count": 180,
   "id": "03f0e805",
   "metadata": {},
   "outputs": [
    {
     "data": {
      "text/plain": [
       "'Jeff Bezos'"
      ]
     },
     "execution_count": 180,
     "metadata": {},
     "output_type": "execute_result"
    }
   ],
   "source": [
    "ceo_nested_dict[1][\"name\"]"
   ]
  },
  {
   "cell_type": "code",
   "execution_count": 181,
   "id": "e8c753b0",
   "metadata": {},
   "outputs": [
    {
     "data": {
      "text/html": [
       "<div>\n",
       "<style scoped>\n",
       "    .dataframe tbody tr th:only-of-type {\n",
       "        vertical-align: middle;\n",
       "    }\n",
       "\n",
       "    .dataframe tbody tr th {\n",
       "        vertical-align: top;\n",
       "    }\n",
       "\n",
       "    .dataframe thead th {\n",
       "        text-align: right;\n",
       "    }\n",
       "</style>\n",
       "<table border=\"1\" class=\"dataframe\">\n",
       "  <thead>\n",
       "    <tr style=\"text-align: right;\">\n",
       "      <th></th>\n",
       "      <th>name</th>\n",
       "      <th>age</th>\n",
       "      <th>occupation</th>\n",
       "    </tr>\n",
       "  </thead>\n",
       "  <tbody>\n",
       "    <tr>\n",
       "      <th>0</th>\n",
       "      <td>Warren Buffet</td>\n",
       "      <td>88</td>\n",
       "      <td>CEO of Berkshire Hathaway</td>\n",
       "    </tr>\n",
       "    <tr>\n",
       "      <th>1</th>\n",
       "      <td>Jeff Bezos</td>\n",
       "      <td>55</td>\n",
       "      <td>CEO of Amazon</td>\n",
       "    </tr>\n",
       "    <tr>\n",
       "      <th>2</th>\n",
       "      <td>Harry Markowitz</td>\n",
       "      <td>91</td>\n",
       "      <td>Professor of Finance</td>\n",
       "    </tr>\n",
       "  </tbody>\n",
       "</table>\n",
       "</div>"
      ],
      "text/plain": [
       "              name  age                 occupation\n",
       "0    Warren Buffet   88  CEO of Berkshire Hathaway\n",
       "1       Jeff Bezos   55              CEO of Amazon\n",
       "2  Harry Markowitz   91       Professor of Finance"
      ]
     },
     "execution_count": 181,
     "metadata": {},
     "output_type": "execute_result"
    }
   ],
   "source": [
    "pd.DataFrame(ceo_nested_dict)"
   ]
  },
  {
   "cell_type": "code",
   "execution_count": null,
   "id": "d154339f",
   "metadata": {},
   "outputs": [],
   "source": [
    "# dict of lists { [] }"
   ]
  },
  {
   "cell_type": "code",
   "execution_count": 182,
   "id": "4f5d9b85",
   "metadata": {},
   "outputs": [],
   "source": [
    "stocks_nested_list = {\n",
    "    \"APPL\": [\"Apple\", 101.32, \"NASDAQ\", 937.7],\n",
    "    \"MU\": [\"Micron Technology\", 32.12, \"NASDAQ\", 48.03],\n",
    "    \"AMD\": [\"Advanced Micro Devices\", 23.12, \"NASDAQ\", 29.94],\n",
    "    \"TWTR\": [\"Twitter\", 34.40, \"NASDAQ\", 26.42]\n",
    "}"
   ]
  },
  {
   "cell_type": "code",
   "execution_count": 185,
   "id": "ac25efef",
   "metadata": {},
   "outputs": [
    {
     "data": {
      "text/plain": [
       "dict_keys(['APPL', 'MU', 'AMD', 'TWTR'])"
      ]
     },
     "execution_count": 185,
     "metadata": {},
     "output_type": "execute_result"
    }
   ],
   "source": [
    "stocks_nested_list.keys()"
   ]
  },
  {
   "cell_type": "code",
   "execution_count": 186,
   "id": "150ba20a",
   "metadata": {},
   "outputs": [
    {
     "data": {
      "text/plain": [
       "dict_values([['Apple', 101.32, 'NASDAQ', 937.7], ['Micron Technology', 32.12, 'NASDAQ', 48.03], ['Advanced Micro Devices', 23.12, 'NASDAQ', 29.94], ['Twitter', 34.4, 'NASDAQ', 26.42]])"
      ]
     },
     "execution_count": 186,
     "metadata": {},
     "output_type": "execute_result"
    }
   ],
   "source": [
    "stocks_nested_list.values()"
   ]
  },
  {
   "cell_type": "code",
   "execution_count": 183,
   "id": "e71a6116",
   "metadata": {},
   "outputs": [
    {
     "data": {
      "text/plain": [
       "['Apple', 101.32, 'NASDAQ', 937.7]"
      ]
     },
     "execution_count": 183,
     "metadata": {},
     "output_type": "execute_result"
    }
   ],
   "source": [
    "stocks_nested_list[\"APPL\"]"
   ]
  },
  {
   "cell_type": "code",
   "execution_count": 188,
   "id": "9a215bc6",
   "metadata": {},
   "outputs": [
    {
     "data": {
      "text/plain": [
       "101.32"
      ]
     },
     "execution_count": 188,
     "metadata": {},
     "output_type": "execute_result"
    }
   ],
   "source": [
    "stocks_nested_list[\"APPL\"][1]"
   ]
  },
  {
   "cell_type": "code",
   "execution_count": 193,
   "id": "a54c9066",
   "metadata": {},
   "outputs": [
    {
     "data": {
      "text/html": [
       "<div>\n",
       "<style scoped>\n",
       "    .dataframe tbody tr th:only-of-type {\n",
       "        vertical-align: middle;\n",
       "    }\n",
       "\n",
       "    .dataframe tbody tr th {\n",
       "        vertical-align: top;\n",
       "    }\n",
       "\n",
       "    .dataframe thead th {\n",
       "        text-align: right;\n",
       "    }\n",
       "</style>\n",
       "<table border=\"1\" class=\"dataframe\">\n",
       "  <thead>\n",
       "    <tr style=\"text-align: right;\">\n",
       "      <th></th>\n",
       "      <th>0</th>\n",
       "      <th>1</th>\n",
       "    </tr>\n",
       "  </thead>\n",
       "  <tbody>\n",
       "    <tr>\n",
       "      <th>0</th>\n",
       "      <td>APPL</td>\n",
       "      <td>[Apple, 101.32, NASDAQ, 937.7]</td>\n",
       "    </tr>\n",
       "    <tr>\n",
       "      <th>1</th>\n",
       "      <td>MU</td>\n",
       "      <td>[Micron Technology, 32.12, NASDAQ, 48.03]</td>\n",
       "    </tr>\n",
       "    <tr>\n",
       "      <th>2</th>\n",
       "      <td>AMD</td>\n",
       "      <td>[Advanced Micro Devices, 23.12, NASDAQ, 29.94]</td>\n",
       "    </tr>\n",
       "    <tr>\n",
       "      <th>3</th>\n",
       "      <td>TWTR</td>\n",
       "      <td>[Twitter, 34.4, NASDAQ, 26.42]</td>\n",
       "    </tr>\n",
       "  </tbody>\n",
       "</table>\n",
       "</div>"
      ],
      "text/plain": [
       "      0                                               1\n",
       "0  APPL                  [Apple, 101.32, NASDAQ, 937.7]\n",
       "1    MU       [Micron Technology, 32.12, NASDAQ, 48.03]\n",
       "2   AMD  [Advanced Micro Devices, 23.12, NASDAQ, 29.94]\n",
       "3  TWTR                  [Twitter, 34.4, NASDAQ, 26.42]"
      ]
     },
     "execution_count": 193,
     "metadata": {},
     "output_type": "execute_result"
    }
   ],
   "source": [
    "pd.DataFrame(stocks_nested_list.items())"
   ]
  },
  {
   "cell_type": "code",
   "execution_count": 208,
   "id": "f525b38f",
   "metadata": {},
   "outputs": [],
   "source": [
    "portfolio1 = pd.DataFrame(stocks_nested_list.values(),columns = [\"company name\", \"closing price\", \"industry\", \"market cap in millions\"])"
   ]
  },
  {
   "cell_type": "code",
   "execution_count": 210,
   "id": "beb711a4",
   "metadata": {},
   "outputs": [
    {
     "data": {
      "text/plain": [
       "23.12"
      ]
     },
     "execution_count": 210,
     "metadata": {},
     "output_type": "execute_result"
    }
   ],
   "source": [
    "portfolio1[\"closing price\"].min()"
   ]
  },
  {
   "cell_type": "code",
   "execution_count": null,
   "id": "2d8debe1",
   "metadata": {},
   "outputs": [],
   "source": [
    "# dict of dicts { {} }"
   ]
  },
  {
   "cell_type": "code",
   "execution_count": 194,
   "id": "aed1a18c",
   "metadata": {},
   "outputs": [],
   "source": [
    "stocks_nested_dict = {\n",
    "    \"APPL\": {\n",
    "        \"name\": \"Apple\",\n",
    "        \"exchange\": \"NASDAQ\",\n",
    "        \"market_cap\": 937.7\n",
    "    },\n",
    "    \"MU\": {\n",
    "        \"name\": \"Micron Technology\",\n",
    "        \"exchange\": \"NASDAQ\",\n",
    "        \"market_cap\": 48.03\n",
    "    },\n",
    "    \"AMD\": {\n",
    "        \"name\": \"Advanced Micro Devices\",\n",
    "        \"exchange\": \"NASDAQ\",\n",
    "        \"market_cap\": 29.94\n",
    "    },\n",
    "    \"TWTR\": {\n",
    "        \"name\": \"Twitter\",\n",
    "        \"exchange\": \"NASDAQ\",\n",
    "        \"market_cap\": 26.42\n",
    "    }\n",
    "}"
   ]
  },
  {
   "cell_type": "code",
   "execution_count": 196,
   "id": "36f746d2",
   "metadata": {},
   "outputs": [
    {
     "data": {
      "text/plain": [
       "dict_keys(['APPL', 'MU', 'AMD', 'TWTR'])"
      ]
     },
     "execution_count": 196,
     "metadata": {},
     "output_type": "execute_result"
    }
   ],
   "source": [
    "stocks_nested_dict.keys()"
   ]
  },
  {
   "cell_type": "code",
   "execution_count": 197,
   "id": "c00f01a1",
   "metadata": {},
   "outputs": [
    {
     "data": {
      "text/plain": [
       "dict_values([{'name': 'Apple', 'exchange': 'NASDAQ', 'market_cap': 937.7}, {'name': 'Micron Technology', 'exchange': 'NASDAQ', 'market_cap': 48.03}, {'name': 'Advanced Micro Devices', 'exchange': 'NASDAQ', 'market_cap': 29.94}, {'name': 'Twitter', 'exchange': 'NASDAQ', 'market_cap': 26.42}])"
      ]
     },
     "execution_count": 197,
     "metadata": {},
     "output_type": "execute_result"
    }
   ],
   "source": [
    "stocks_nested_dict.values()"
   ]
  },
  {
   "cell_type": "code",
   "execution_count": 198,
   "id": "744d584e",
   "metadata": {},
   "outputs": [
    {
     "data": {
      "text/plain": [
       "{'APPL': {'name': 'Apple', 'exchange': 'NASDAQ', 'market_cap': 937.7},\n",
       " 'MU': {'name': 'Micron Technology',\n",
       "  'exchange': 'NASDAQ',\n",
       "  'market_cap': 48.03},\n",
       " 'AMD': {'name': 'Advanced Micro Devices',\n",
       "  'exchange': 'NASDAQ',\n",
       "  'market_cap': 29.94},\n",
       " 'TWTR': {'name': 'Twitter', 'exchange': 'NASDAQ', 'market_cap': 26.42}}"
      ]
     },
     "execution_count": 198,
     "metadata": {},
     "output_type": "execute_result"
    }
   ],
   "source": [
    "stocks_nested_dict"
   ]
  },
  {
   "cell_type": "code",
   "execution_count": 199,
   "id": "a5fbeb8d",
   "metadata": {},
   "outputs": [
    {
     "data": {
      "text/plain": [
       "'NASDAQ'"
      ]
     },
     "execution_count": 199,
     "metadata": {},
     "output_type": "execute_result"
    }
   ],
   "source": [
    "stocks_nested_dict[\"MU\"][\"exchange\"]"
   ]
  },
  {
   "cell_type": "code",
   "execution_count": 200,
   "id": "3bf66372",
   "metadata": {},
   "outputs": [
    {
     "data": {
      "text/html": [
       "<div>\n",
       "<style scoped>\n",
       "    .dataframe tbody tr th:only-of-type {\n",
       "        vertical-align: middle;\n",
       "    }\n",
       "\n",
       "    .dataframe tbody tr th {\n",
       "        vertical-align: top;\n",
       "    }\n",
       "\n",
       "    .dataframe thead th {\n",
       "        text-align: right;\n",
       "    }\n",
       "</style>\n",
       "<table border=\"1\" class=\"dataframe\">\n",
       "  <thead>\n",
       "    <tr style=\"text-align: right;\">\n",
       "      <th></th>\n",
       "      <th>name</th>\n",
       "      <th>exchange</th>\n",
       "      <th>market_cap</th>\n",
       "    </tr>\n",
       "  </thead>\n",
       "  <tbody>\n",
       "    <tr>\n",
       "      <th>APPL</th>\n",
       "      <td>Apple</td>\n",
       "      <td>NASDAQ</td>\n",
       "      <td>937.70</td>\n",
       "    </tr>\n",
       "    <tr>\n",
       "      <th>MU</th>\n",
       "      <td>Micron Technology</td>\n",
       "      <td>NASDAQ</td>\n",
       "      <td>48.03</td>\n",
       "    </tr>\n",
       "    <tr>\n",
       "      <th>AMD</th>\n",
       "      <td>Advanced Micro Devices</td>\n",
       "      <td>NASDAQ</td>\n",
       "      <td>29.94</td>\n",
       "    </tr>\n",
       "    <tr>\n",
       "      <th>TWTR</th>\n",
       "      <td>Twitter</td>\n",
       "      <td>NASDAQ</td>\n",
       "      <td>26.42</td>\n",
       "    </tr>\n",
       "  </tbody>\n",
       "</table>\n",
       "</div>"
      ],
      "text/plain": [
       "                        name exchange  market_cap\n",
       "APPL                   Apple   NASDAQ      937.70\n",
       "MU         Micron Technology   NASDAQ       48.03\n",
       "AMD   Advanced Micro Devices   NASDAQ       29.94\n",
       "TWTR                 Twitter   NASDAQ       26.42"
      ]
     },
     "execution_count": 200,
     "metadata": {},
     "output_type": "execute_result"
    }
   ],
   "source": [
    "pd.DataFrame.from_dict(stocks_nested_dict,orient=\"index\")"
   ]
  },
  {
   "cell_type": "code",
   "execution_count": 202,
   "id": "70ae487d",
   "metadata": {},
   "outputs": [
    {
     "data": {
      "text/plain": [
       "100000"
      ]
     },
     "execution_count": 202,
     "metadata": {},
     "output_type": "execute_result"
    }
   ],
   "source": [
    "# functions\n",
    "\n",
    "market_price = 10\n",
    "number_of_shares_outstanding = 10000\n",
    "\n",
    "market_cap = market_price * number_of_shares_outstanding \n",
    "\n",
    "market_cap"
   ]
  },
  {
   "cell_type": "code",
   "execution_count": 203,
   "id": "f485a1ba",
   "metadata": {},
   "outputs": [],
   "source": [
    "def calclate_market_cap(market_price, number_of_shares_outstanding):\n",
    "    market_cap = market_price * number_of_shares_outstanding\n",
    "    return market_cap"
   ]
  },
  {
   "cell_type": "code",
   "execution_count": 204,
   "id": "a49a41d7",
   "metadata": {},
   "outputs": [
    {
     "data": {
      "text/plain": [
       "35"
      ]
     },
     "execution_count": 204,
     "metadata": {},
     "output_type": "execute_result"
    }
   ],
   "source": [
    "calclate_market_cap(5,7)"
   ]
  },
  {
   "cell_type": "code",
   "execution_count": 205,
   "id": "95415b52",
   "metadata": {},
   "outputs": [
    {
     "data": {
      "text/plain": [
       "2259000000"
      ]
     },
     "execution_count": 205,
     "metadata": {},
     "output_type": "execute_result"
    }
   ],
   "source": [
    "google_market_cap = calclate_market_cap(251,9000000)\n",
    "google_market_cap"
   ]
  },
  {
   "cell_type": "code",
   "execution_count": 211,
   "id": "5f69146c",
   "metadata": {},
   "outputs": [],
   "source": [
    "new_records = {\n",
    "    \"AAPL\": {\n",
    "        \"date\": \"04-21-2019\",\n",
    "        \"open\": 200.85,\n",
    "        \"high\": 201.00,\n",
    "        \"low\": 198.44,\n",
    "        \"close\": 198.95\n",
    "    },\n",
    "    \"MU\": {\n",
    "        \"date\": \"04-21-2019\",\n",
    "        \"open\": 42.85,\n",
    "        \"high\": 43.20,\n",
    "        \"low\": 41.81,\n",
    "        \"close\": 42.01\n",
    "    },\n",
    "    \"AMD\": {\n",
    "        \"date\": \"04-21-2019\",\n",
    "        \"open\": 28.21,\n",
    "        \"high\": 28.38,\n",
    "        \"low\": 27.66,\n",
    "        \"close\": 27.85\n",
    "    },\n",
    "    \"TWTR\": {\n",
    "        \"date\": \"04-21-2019\",\n",
    "        \"open\": 34.67,\n",
    "        \"high\": 34.83,\n",
    "        \"low\": 34.11,\n",
    "        \"close\": 34.37\n",
    "    }\n",
    "}"
   ]
  },
  {
   "cell_type": "code",
   "execution_count": 213,
   "id": "50256f31",
   "metadata": {},
   "outputs": [
    {
     "data": {
      "text/plain": [
       "'04-21-2019'"
      ]
     },
     "execution_count": 213,
     "metadata": {},
     "output_type": "execute_result"
    }
   ],
   "source": [
    "new_records[\"AAPL\"][\"date\"]"
   ]
  },
  {
   "cell_type": "code",
   "execution_count": 215,
   "id": "0c830df4",
   "metadata": {},
   "outputs": [],
   "source": [
    "new_records_df = pd.DataFrame.from_dict(new_records, orient=\"index\")"
   ]
  },
  {
   "cell_type": "code",
   "execution_count": 216,
   "id": "704d3200",
   "metadata": {},
   "outputs": [
    {
     "data": {
      "text/plain": [
       "AAPL    04-21-2019\n",
       "MU      04-21-2019\n",
       "AMD     04-21-2019\n",
       "TWTR    04-21-2019\n",
       "Name: date, dtype: object"
      ]
     },
     "execution_count": 216,
     "metadata": {},
     "output_type": "execute_result"
    }
   ],
   "source": [
    "new_records_df.date"
   ]
  },
  {
   "cell_type": "code",
   "execution_count": 217,
   "id": "5ea190b7",
   "metadata": {},
   "outputs": [
    {
     "data": {
      "text/plain": [
       "201.0"
      ]
     },
     "execution_count": 217,
     "metadata": {},
     "output_type": "execute_result"
    }
   ],
   "source": [
    "new_records[\"AAPL\"][\"high\"]"
   ]
  },
  {
   "cell_type": "code",
   "execution_count": null,
   "id": "1b6e5a64",
   "metadata": {},
   "outputs": [],
   "source": []
  }
 ],
 "metadata": {
  "kernelspec": {
   "display_name": "Python 3",
   "language": "python",
   "name": "python3"
  },
  "language_info": {
   "codemirror_mode": {
    "name": "ipython",
    "version": 3
   },
   "file_extension": ".py",
   "mimetype": "text/x-python",
   "name": "python",
   "nbconvert_exporter": "python",
   "pygments_lexer": "ipython3",
   "version": "3.8.5"
  }
 },
 "nbformat": 4,
 "nbformat_minor": 5
}
