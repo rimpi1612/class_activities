{
 "cells": [
  {
   "cell_type": "code",
   "execution_count": 14,
   "id": "0de43726",
   "metadata": {},
   "outputs": [
    {
     "name": "stdout",
     "output_type": "stream",
     "text": [
      "Programmers: Ada Lovelace is a British Computer Programmer born in 1815 .\n",
      "She is commonly referred to as the First Computer Programmer.\n",
      "In 1842 she published the first Algorithm, the Analytical Engine, at the age of 27.\n",
      "She was a British who lived in London, England until her passing in 1852 at the age of 37.\n"
     ]
    }
   ],
   "source": [
    "subject = \"None\"\n",
    "subject = \"Programmers\"\n",
    "first_name = \"\"\n",
    "first_name = \"Ada\"\n",
    "last_name = \"Lovelace\"\n",
    "full_name = first_name + \" \" + last_name\n",
    "professsion = \"Computer Programmer\"\n",
    "known_for = \"First Computer Programmer\"\n",
    "first_algorithm  = \"Analytical Engine\"\n",
    "city_location = \"London\"\n",
    "country_location = \"England\"\n",
    "nationality = \"British\"\n",
    "birth_year = 1815\n",
    "death_year = 1852\n",
    "age_at_passing = death_year - birth_year\n",
    "year_of_publish = 1842\n",
    "age_of_publish = year_of_publish - birth_year\n",
    "print(f\"{subject}: {first_name} {last_name} is a {nationality} {professsion} born in {birth_year} .\")\n",
    "print(f\"She is commonly referred to as the {known_for}.\")\n",
    "print(f\"In {year_of_publish} she published the first Algorithm, the {first_algorithm}, at the age of {age_of_publish}.\")\n",
    "print(f\"She was a {nationality} who lived in {city_location}, {country_location} until her passing in {death_year} at the age of {age_at_passing}.\")"
   ]
  },
  {
   "cell_type": "code",
   "execution_count": 16,
   "id": "7fe28e43",
   "metadata": {},
   "outputs": [
    {
     "data": {
      "text/plain": [
       "list"
      ]
     },
     "execution_count": 16,
     "metadata": {},
     "output_type": "execute_result"
    }
   ],
   "source": [
    "farm = [\"pig\", \"cow\", \"chicken\", \"dog\", \"horse\", \"sheep\"]\n",
    "type(farm)"
   ]
  },
  {
   "cell_type": "code",
   "execution_count": 28,
   "id": "89ac67b5",
   "metadata": {},
   "outputs": [
    {
     "name": "stdout",
     "output_type": "stream",
     "text": [
      "RWAR!\n",
      "See Spot run!\n",
      "I drive Farley around San Francisco in my Prius\n",
      "You're total cost is 4250\n",
      "Ahhh just right!\n"
     ]
    }
   ],
   "source": [
    "if farm[0] != \"Godzilla\":\n",
    "    print(\"RWAR!\")\n",
    "elif farm[-1] == \"Mothra\":\n",
    "    print(\"SCREECH!\")\n",
    "else :\n",
    " print(\"This animal is neither Godzilla nor Mothra!\")\n",
    "\n",
    "dog = 'Spot'\n",
    "cat = \"\"\n",
    "city = \"\"\n",
    "car = \"\"\n",
    "cat = \"Farley\"\n",
    "city = \"San Francisco\"\n",
    "car = \"Prius\"\n",
    "print(f\"See {dog} run!\")\n",
    "print(f\"I drive {cat} around {city} in my {car}\")\n",
    "budget = 5000\n",
    "rent_cost = 1500\n",
    "utilities_cost = 150\n",
    "food_cost = 250\n",
    "transportation_cost = 350\n",
    "computer_cost = 2000\n",
    "rest = food_cost + utilities_cost + transportation_cost\n",
    "total_cost = rent_cost + utilities_cost + food_cost + transportation_cost + computer_cost\n",
    "if budget > total_cost:\n",
    "    print(\"You're total cost is\" , total_cost )\n",
    "else:\n",
    "    print(f\"You're over budget by {total_cost-budget}\")\n",
    "if rest > rent_cost:\n",
    "    print(\"The rent is too damn high!\")\n",
    "else :\n",
    "    print(\"Ahhh just right!\")"
   ]
  },
  {
   "cell_type": "code",
   "execution_count": 33,
   "id": "47305d04",
   "metadata": {},
   "outputs": [
    {
     "name": "stdout",
     "output_type": "stream",
     "text": [
      "Hello Mr. Farley\n",
      "Mr. Farley is older than Mr. Snuggles\n",
      "Mr. Farley doesn't hail from a sports town.\n",
      "Mr. Farley pays the same rent as Mr. Snuggles\n"
     ]
    }
   ],
   "source": [
    "c1_name =\"Mr. Farley\"\n",
    "c1_age = 65\n",
    "c1_profession = \"Web Developer\"\n",
    "c1_salary = 100000.00\n",
    "c1_species = \"cat\"\n",
    "c1_location = \"San Francisco, CA\"\n",
    "c1_monthly_rent = 2000\n",
    "c1_monthly_expenses = 1500\n",
    "c1_yearly_rent = c1_monthly_rent * 12\n",
    "c1_yearly_expenses = 1500.00 * 12\n",
    "c1_savings = c1_salary - (c1_yearly_rent + c1_yearly_expenses)\n",
    "\n",
    "c2_name =\"Mr. Snuggles\"\n",
    "c2_age = 30\n",
    "c2_profession = \"Accountant\"\n",
    "c2_salary = 70000\n",
    "c2_species = \"mouse\"\n",
    "c2_location = \"Oakland, CA\"\n",
    "c2_monthly_rent = 4000\n",
    "c2_monthly_expenses = 500\n",
    "c2_yearly_rent = c2_monthly_rent * 12\n",
    "c2_yearly_expenses = c2_monthly_expenses * 12\n",
    "c2_savings = c2_salary - (c2_yearly_rent + c2_yearly_expenses)\n",
    "if c1_name == \"Mr. Farley\":\n",
    "    print(f\"Hello {c1_name}\")\n",
    "else :\n",
    "    print(\"Hello Stranger\")\n",
    "if c2_age > c1_age:\n",
    "    print(f\"{c2_name} is older than {c1_name}\")\n",
    "elif c1_age > c2_age:\n",
    "    print(f\"{c1_name} is older than {c2_name}\")\n",
    "else:\n",
    "    print(f\"{c1_name} is the same age as {c2_name}\")\n",
    "    \n",
    "if c1_location == \"Oakland, CA\":\n",
    "    print(f\"{c1_name} comes from the home of the Raiders!\")\n",
    "elif c2_location == \"San Francisco, CA\":\n",
    "    print(f\"{c1_name} comes from the home of the 49ers!\")\n",
    "else:\n",
    "    print(f\"{c1_name} doesn't hail from a sports town.\")\n",
    "\n",
    "if c1_yearly_rent > c2_yearly_rent:\n",
    "    print(f\"{c1_name} pays less rent than {c2_name}\")\n",
    "else:\n",
    "    print(f\"Mr. Farley pays the same rent as Mr. Snuggles\")\n"
   ]
  },
  {
   "cell_type": "code",
   "execution_count": null,
   "id": "72a8f161",
   "metadata": {},
   "outputs": [],
   "source": [
    "def calculator(number_1, number_2):\n",
    "    sign = input(\"What do you want to do: Add, Subtract, Multiply or Divide?\")\n",
    "    result = 0\n",
    "    if sign == '+':\n",
    "        result = int(number_1)+int(number_2) \n",
    "    elif sign == '':\n",
    "        result = number_1 - number_2\n",
    "    elif sign == '*':\n",
    "        result = number_1 * number_2\n",
    "    elif sign == '/':\n",
    "        result = number_1 / number_2\n",
    "    else :\n",
    "        result = 0\n",
    "    return result\n",
    "        \n"
   ]
  },
  {
   "cell_type": "code",
   "execution_count": null,
   "id": "560659e3",
   "metadata": {},
   "outputs": [],
   "source": [
    "calculator(12,12)"
   ]
  },
  {
   "cell_type": "code",
   "execution_count": 62,
   "id": "bb8b3aca",
   "metadata": {},
   "outputs": [
    {
     "name": "stdout",
     "output_type": "stream",
     "text": [
      "false\n"
     ]
    }
   ],
   "source": [
    "# Import the `random` library.\n",
    "import random as rd\n",
    "# Answer each question with the correct coding solution.\n",
    "\n",
    "# QUESTION 1: Create a function called `number_guess` that takes in an integer as an argument.\n",
    "# If the number is 42, print(true). If it isn't 42, print(false)\n",
    "\n",
    "def number_guess(number):\n",
    "    x = int(number)\n",
    "    if x == 42:\n",
    "        print(\"true\")\n",
    "    else:\n",
    "        print(\"false\")\n",
    "\n",
    "    \n",
    "# This code is to help you test your function\n",
    "\n",
    "number_guess(45)\n",
    "# QUESTION 2: Write a function that takes in a list of numbers. the function should print the smallest number in the given list\n",
    "\n",
    "def show_list(list1):\n",
    "    list1.sort()   \n",
    "    print(f\"smallest number in the list is {list1[0]}\")\n",
    "    \n",
    "# This code is to help you test your function\n",
    "list1 = [20,10,12,5,4]\n",
    "show_list(list1)\n",
    "\n",
    "# QUESTION 3: Write a function which takes in a list of strings. The function should print the shortest string in the list.\n",
    "\n",
    "def show_string_list(list_str):\n",
    "    \n",
    "\n",
    "# This code is to help you test your function\n",
    "[\"some\", \"example\", \"words\", \"that\", \"i\", \"am\", \"fond\", \"of\"]\n",
    "\n",
    "#QUESTION 4: Write a function that takes in three arguments: a high value, a low value and a list of numbers.\n",
    "# The function should print a new list of numbers where the elements are greater than the low value and less than the high value\n",
    "\n",
    "\n",
    "# This code is to help you test your function\n"
   ]
  },
  {
   "cell_type": "code",
   "execution_count": null,
   "id": "3cc8d74c",
   "metadata": {},
   "outputs": [],
   "source": []
  },
  {
   "cell_type": "code",
   "execution_count": null,
   "id": "c7ec7c87",
   "metadata": {},
   "outputs": [],
   "source": []
  },
  {
   "cell_type": "code",
   "execution_count": 44,
   "id": "17f348d2",
   "metadata": {},
   "outputs": [],
   "source": [
    "# tutor magic\n",
    "from metakernel import register_ipython_magics\n",
    "register_ipython_magics()"
   ]
  },
  {
   "cell_type": "code",
   "execution_count": 45,
   "id": "c4235f18",
   "metadata": {},
   "outputs": [
    {
     "data": {
      "text/html": [
       "\n",
       "        <iframe\n",
       "            width=\"100%\"\n",
       "            height=\"500\"\n",
       "            src=\"https://pythontutor.com/iframe-embed.html#code=farm%20%3D%20%5B%22pig%22%2C%20%22cow%22%2C%20%22chicken%22%2C%20%22dog%22%2C%20%22horse%22%20%2C%20%22sheep%22%5D%0Aif%20farm%5B0%5D%20%21%3D%20%22Godzilla%22%3A%20%20%23%20is%20not%0A%20%20%20%20print%28%22raw%22%29%0Aif%20farm%5B-1%5D%20%3D%3D%20%22mothra%22%3A%20%20%20%23%20is%0A%20%20%20%20print%28%22screech%22%29%0Aelse%3A%0A%20%20%20%20print%28%22This%20animal%20is%20neither%20Godzilla%20nor%20Mothra%21%22%29%0A&origin=opt-frontend.js&cumulative=false&heapPrimitives=false&textReferences=false&py=3&rawInputLstJSON=%5B%5D&curInstr=0&codeDivWidth=350&codeDivHeight=400\"\n",
       "            frameborder=\"0\"\n",
       "            allowfullscreen\n",
       "        ></iframe>\n",
       "        "
      ],
      "text/plain": [
       "<IPython.lib.display.IFrame at 0x7fdb5f700e20>"
      ]
     },
     "metadata": {},
     "output_type": "display_data"
    }
   ],
   "source": [
    "%%tutor\n",
    "farm = [\"pig\", \"cow\", \"chicken\", \"dog\", \"horse\" , \"sheep\"]\n",
    "if farm[0] != \"Godzilla\":  # is not\n",
    "    print(\"raw\")\n",
    "if farm[-1] == \"mothra\":   # is\n",
    "    print(\"screech\")\n",
    "else:\n",
    "    print(\"This animal is neither Godzilla nor Mothra!\")"
   ]
  },
  {
   "cell_type": "code",
   "execution_count": null,
   "id": "d62cf1ab",
   "metadata": {},
   "outputs": [],
   "source": []
  }
 ],
 "metadata": {
  "kernelspec": {
   "display_name": "Python 3",
   "language": "python",
   "name": "python3"
  },
  "language_info": {
   "codemirror_mode": {
    "name": "ipython",
    "version": 3
   },
   "file_extension": ".py",
   "mimetype": "text/x-python",
   "name": "python",
   "nbconvert_exporter": "python",
   "pygments_lexer": "ipython3",
   "version": "3.8.5"
  }
 },
 "nbformat": 4,
 "nbformat_minor": 5
}
