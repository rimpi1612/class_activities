{
 "cells": [
  {
   "cell_type": "code",
   "execution_count": 1,
   "id": "37ad8300",
   "metadata": {},
   "outputs": [
    {
     "name": "stdout",
     "output_type": "stream",
     "text": [
      "Programmers: Ada Lovelace is a British Computer Programmer born in 1815 .\n",
      "She is commonly referred to as the First Computer Programmer.\n",
      "In 1842 she published the first Algorithm, the Analytical Engine, at the age of 27.\n",
      "She was a British who lived in London, England until her passing in 1852 at the age of 37.\n"
     ]
    }
   ],
   "source": [
    "subject = \"None\"\n",
    "subject = \"Programmers\"\n",
    "first_name = \"\"\n",
    "first_name = \"Ada\"\n",
    "last_name = \"Lovelace\"\n",
    "full_name = first_name + \" \" + last_name\n",
    "professsion = \"Computer Programmer\"\n",
    "known_for = \"First Computer Programmer\"\n",
    "first_algorithm  = \"Analytical Engine\"\n",
    "city_location = \"London\"\n",
    "country_location = \"England\"\n",
    "nationality = \"British\"\n",
    "birth_year = 1815\n",
    "death_year = 1852\n",
    "age_at_passing = death_year - birth_year\n",
    "year_of_publish = 1842\n",
    "age_of_publish = year_of_publish - birth_year\n",
    "print(f\"{subject}: {first_name} {last_name} is a {nationality} {professsion} born in {birth_year} .\")\n",
    "print(f\"She is commonly referred to as the {known_for}.\")\n",
    "print(f\"In {year_of_publish} she published the first Algorithm, the {first_algorithm}, at the age of {age_of_publish}.\")\n",
    "print(f\"She was a {nationality} who lived in {city_location}, {country_location} until her passing in {death_year} at the age of {age_at_passing}.\")"
   ]
  },
  {
   "cell_type": "code",
   "execution_count": 2,
   "id": "2c677ec2",
   "metadata": {},
   "outputs": [
    {
     "name": "stdout",
     "output_type": "stream",
     "text": [
      "RWAR!\n",
      "See Spot run!\n",
      "I drive Farley around San Francisco in my Prius\n",
      "You're total cost is 4250\n",
      "Ahhh just right!\n"
     ]
    }
   ],
   "source": [
    "farm = [\"pig\", \"cow\", \"chicken\", \"dog\", \"horse\", \"sheep\"]\n",
    "type(farm)\n",
    "if farm[0] != \"Godzilla\":\n",
    "    print(\"RWAR!\")\n",
    "elif farm[-1] == \"Mothra\":\n",
    "    print(\"SCREECH!\")\n",
    "else :\n",
    " print(\"This animal is neither Godzilla nor Mothra!\")\n",
    "\n",
    "dog = 'Spot'\n",
    "cat = \"\"\n",
    "city = \"\"\n",
    "car = \"\"\n",
    "cat = \"Farley\"\n",
    "city = \"San Francisco\"\n",
    "car = \"Prius\"\n",
    "print(f\"See {dog} run!\")\n",
    "print(f\"I drive {cat} around {city} in my {car}\")\n",
    "budget = 5000\n",
    "rent_cost = 1500\n",
    "utilities_cost = 150\n",
    "food_cost = 250\n",
    "transportation_cost = 350\n",
    "computer_cost = 2000\n",
    "rest = food_cost + utilities_cost + transportation_cost\n",
    "total_cost = rent_cost + utilities_cost + food_cost + transportation_cost + computer_cost\n",
    "if budget > total_cost:\n",
    "    print(\"You're total cost is\" , total_cost )\n",
    "else:\n",
    "    print(f\"You're over budget by {total_cost-budget}\")\n",
    "if rest > rent_cost:\n",
    "    print(\"The rent is too damn high!\")\n",
    "else :\n",
    "    print(\"Ahhh just right!\")"
   ]
  },
  {
   "cell_type": "code",
   "execution_count": 4,
   "id": "1e4dbf5b",
   "metadata": {},
   "outputs": [
    {
     "name": "stdout",
     "output_type": "stream",
     "text": [
      "Hello Mr. Farley\n",
      "Mr. Farley is older than Mr. Snuggles\n",
      "Mr. Farley doesn't hail from a sports town.\n",
      "Mr. Farley pays the same rent as Mr. Snuggles\n"
     ]
    }
   ],
   "source": [
    "c1_name =\"Mr. Farley\"\n",
    "c1_age = 65\n",
    "c1_profession = \"Web Developer\"\n",
    "c1_salary = 100000.00\n",
    "c1_species = \"cat\"\n",
    "c1_location = \"San Francisco, CA\"\n",
    "c1_monthly_rent = 2000\n",
    "c1_monthly_expenses = 1500\n",
    "c1_yearly_rent = c1_monthly_rent * 12\n",
    "c1_yearly_expenses = 1500.00 * 12\n",
    "c1_savings = c1_salary - (c1_yearly_rent + c1_yearly_expenses)\n",
    "\n",
    "c2_name =\"Mr. Snuggles\"\n",
    "c2_age = 30\n",
    "c2_profession = \"Accountant\"\n",
    "c2_salary = 70000\n",
    "c2_species = \"mouse\"\n",
    "c2_location = \"Oakland, CA\"\n",
    "c2_monthly_rent = 4000\n",
    "c2_monthly_expenses = 500\n",
    "c2_yearly_rent = c2_monthly_rent * 12\n",
    "c2_yearly_expenses = c2_monthly_expenses * 12\n",
    "c2_savings = c2_salary - (c2_yearly_rent + c2_yearly_expenses)\n",
    "if c1_name == \"Mr. Farley\":\n",
    "    print(f\"Hello {c1_name}\")\n",
    "else :\n",
    "    print(\"Hello Stranger\")\n",
    "if c2_age > c1_age:\n",
    "    print(f\"{c2_name} is older than {c1_name}\")\n",
    "elif c1_age > c2_age:\n",
    "    print(f\"{c1_name} is older than {c2_name}\")\n",
    "else:\n",
    "    print(f\"{c1_name} is the same age as {c2_name}\")\n",
    "    \n",
    "if c1_location == \"Oakland, CA\":\n",
    "    print(f\"{c1_name} comes from the home of the Raiders!\")\n",
    "elif c2_location == \"San Francisco, CA\":\n",
    "    print(f\"{c1_name} comes from the home of the 49ers!\")\n",
    "else:\n",
    "    print(f\"{c1_name} doesn't hail from a sports town.\")\n",
    "\n",
    "if c1_yearly_rent > c2_yearly_rent:\n",
    "    print(f\"{c1_name} pays less rent than {c2_name}\")\n",
    "else:\n",
    "    print(f\"{c1_name} pays the same rent as {c2_name}\")"
   ]
  },
  {
   "cell_type": "code",
   "execution_count": 10,
   "id": "7a58dbf5",
   "metadata": {},
   "outputs": [
    {
     "name": "stdout",
     "output_type": "stream",
     "text": [
      "Welcome to the sandwich shop, what do I call you?Rimpi\n",
      "Hello! Rimpi\n",
      "Are you here for a sandwitch?Yes\n",
      "What kind of  sandwich you want?Chicken\n",
      "Please Wait 10 mins for your Chicken sandwich\n"
     ]
    }
   ],
   "source": [
    "welcome_name = input(\"Welcome to the sandwich shop, what do I call you?\")\n",
    "print(f\"Hello! {welcome_name}\")\n",
    "question_sandwitch = input(\"Are you here for a sandwitch?\")\n",
    "if question_sandwitch == \"Yes\":\n",
    "    food_prompt = input(\"What kind of  sandwich you want?\")\n",
    "    print(f\"Please Wait 10 mins for your {food_prompt} sandwichbb\")\n",
    "else:\n",
    "    print(f\"If you don't want a sandwich, why are you here?\")\n",
    "    \n"
   ]
  },
  {
   "cell_type": "code",
   "execution_count": 11,
   "id": "4622f674",
   "metadata": {},
   "outputs": [
    {
     "name": "stdout",
     "output_type": "stream",
     "text": [
      "What do you want to do: Add, Subtract, Multiply or Divide?+\n"
     ]
    },
    {
     "data": {
      "text/plain": [
       "24"
      ]
     },
     "execution_count": 11,
     "metadata": {},
     "output_type": "execute_result"
    }
   ],
   "source": [
    "def calculator(number_1, number_2):\n",
    "    sign = input(\"What do you want to do: Add, Subtract, Multiply or Divide?\")\n",
    "    result = 0\n",
    "    if sign == '+':\n",
    "        result = int(number_1)+int(number_2) \n",
    "    elif sign == '':\n",
    "        result = number_1 - number_2\n",
    "    elif sign == '*':\n",
    "        result = number_1 * number_2\n",
    "    elif sign == '/':\n",
    "        result = number_1 / number_2\n",
    "    else :\n",
    "        result = 0\n",
    "    return result\n",
    "calculator(12,12)"
   ]
  },
  {
   "cell_type": "code",
   "execution_count": 12,
   "id": "b1a24e73",
   "metadata": {},
   "outputs": [
    {
     "name": "stdout",
     "output_type": "stream",
     "text": [
      "false\n",
      "smallest number in the list is 4\n",
      "Length of minimum string is : 1\n",
      "[9, 6, 7, 11, 12, 16, 18, 10]\n"
     ]
    }
   ],
   "source": [
    "# Import the `random` library.\n",
    "import random as rd\n",
    "#import numpy as np\n",
    "# Answer each question with the correct coding solution.\n",
    "\n",
    "# QUESTION 1: Create a function called `number_guess` that takes in an integer as an argument.\n",
    "# If the number is 42, print(true). If it isn't 42, print(false)\n",
    "\n",
    "def number_guess(x):\n",
    "    #x = int(number)\n",
    "    if x == 42:\n",
    "        print(\"true\")\n",
    "    else:\n",
    "        print(\"false\")\n",
    "\n",
    "    \n",
    "# This code is to help you test your function\n",
    "num = rd.random\n",
    "number_guess(num)\n",
    "# QUESTION 2: Write a function that takes in a list of numbers. the function should print the smallest number in the given list\n",
    "\n",
    "def show_list(list1):\n",
    "    list1.sort()   \n",
    "    print(f\"smallest number in the list is {list1[0]}\")\n",
    "    \n",
    "# This code is to help you test your function\n",
    "list1 = [20,10,12,5,4]\n",
    "show_list(list1)\n",
    "\n",
    "# QUESTION 3: Write a function which takes in a list of strings. The function should print the shortest string in the list.\n",
    "\n",
    "def show_string_list(list_str):\n",
    "    res = min(len(ele) for ele in list_str)\n",
    "    print(\"Length of minimum string is : \" + str(res))\n",
    "# This code is to help you test your function\n",
    "my_string = [\"some\", \"example\", \"words\", \"that\", \"i\", \"am\", \"fond\", \"of\"]\n",
    "show_string_list(my_string)\n",
    "\n",
    "#QUESTION 4: Write a function that takes in three arguments: a high value, a low value and a list of numbers.\n",
    "\n",
    "# The function should print a new list of numbers where the elements are greater than the low value and less than the high value\n",
    "def high_low(k,l,list_nums):\n",
    "    new_list = []\n",
    "    for i in list_nums :\n",
    "        if i < k and i > l:\n",
    "            new_list.append(i)\n",
    "    print(new_list)    \n",
    "\n",
    "# This code is to help you test your function\n",
    "high_low(19,5,[5,9,2,4,6,7,11,12,16,1,18,10])"
   ]
  },
  {
   "cell_type": "code",
   "execution_count": null,
   "id": "40dbb67f",
   "metadata": {},
   "outputs": [],
   "source": []
  }
 ],
 "metadata": {
  "kernelspec": {
   "display_name": "Python 3",
   "language": "python",
   "name": "python3"
  },
  "language_info": {
   "codemirror_mode": {
    "name": "ipython",
    "version": 3
   },
   "file_extension": ".py",
   "mimetype": "text/x-python",
   "name": "python",
   "nbconvert_exporter": "python",
   "pygments_lexer": "ipython3",
   "version": "3.8.5"
  }
 },
 "nbformat": 4,
 "nbformat_minor": 5
}
